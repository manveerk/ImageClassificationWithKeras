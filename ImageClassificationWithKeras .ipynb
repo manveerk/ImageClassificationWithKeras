{
 "cells": [
  {
   "cell_type": "code",
   "execution_count": 1,
   "id": "5aa6a538",
   "metadata": {},
   "outputs": [],
   "source": [
    "import tensorflow as tf\n",
    "from tensorflow import keras\n",
    "import matplotlib.pyplot as plt\n",
    "%matplotlib inline\n",
    "import numpy as np\n",
    "import seaborn as sn"
   ]
  },
  {
   "cell_type": "code",
   "execution_count": 2,
   "id": "0b64b598",
   "metadata": {},
   "outputs": [],
   "source": [
    "(X_train, y_train), (X_test, y_test)= keras.datasets.mnist.load_data()"
   ]
  },
  {
   "cell_type": "code",
   "execution_count": 3,
   "id": "bdfab088",
   "metadata": {},
   "outputs": [
    {
     "data": {
      "text/plain": [
       "60000"
      ]
     },
     "execution_count": 3,
     "metadata": {},
     "output_type": "execute_result"
    }
   ],
   "source": [
    "len(X_train)"
   ]
  },
  {
   "cell_type": "code",
   "execution_count": 4,
   "id": "d8dc8947",
   "metadata": {},
   "outputs": [
    {
     "data": {
      "text/plain": [
       "10000"
      ]
     },
     "execution_count": 4,
     "metadata": {},
     "output_type": "execute_result"
    }
   ],
   "source": [
    "len(X_test)"
   ]
  },
  {
   "cell_type": "code",
   "execution_count": 5,
   "id": "25da0e45",
   "metadata": {},
   "outputs": [
    {
     "data": {
      "text/plain": [
       "(28, 28)"
      ]
     },
     "execution_count": 5,
     "metadata": {},
     "output_type": "execute_result"
    }
   ],
   "source": [
    "#shape of each image matrix\n",
    "X_train[0].shape"
   ]
  },
  {
   "cell_type": "code",
   "execution_count": 6,
   "id": "300c6ed4",
   "metadata": {},
   "outputs": [
    {
     "data": {
      "text/plain": [
       "<matplotlib.image.AxesImage at 0x2873ec070>"
      ]
     },
     "execution_count": 6,
     "metadata": {},
     "output_type": "execute_result"
    },
    {
     "data": {
      "image/png": "[encoded data removed]",
      "text/plain": [
       "<Figure size 480x480 with 1 Axes>"
      ]
     },
     "metadata": {},
     "output_type": "display_data"
    }
   ],
   "source": [
    "plt.matshow(X_train[0])"
   ]
  },
  {
   "cell_type": "code",
   "execution_count": 7,
   "id": "8f3adeff",
   "metadata": {},
   "outputs": [],
   "source": [
    "#Flatten the 28*28 matrix into sq(28)\n",
    "X_train_flattened = X_train.reshape(len(X_train), 28*28)\n",
    "X_test_flattened = X_test.reshape(len(X_test), 28*28)"
   ]
  },
  {
   "cell_type": "code",
   "execution_count": 8,
   "id": "219f28ef",
   "metadata": {},
   "outputs": [
    {
     "data": {
      "text/plain": [
       "(60000, 784)"
      ]
     },
     "execution_count": 8,
     "metadata": {},
     "output_type": "execute_result"
    }
   ],
   "source": [
    "X_train_flattened.shape"
   ]
  },
  {
   "cell_type": "code",
   "execution_count": 9,
   "id": "189cf000",
   "metadata": {},
   "outputs": [
    {
     "data": {
      "text/plain": [
       "(784,)"
      ]
     },
     "execution_count": 9,
     "metadata": {},
     "output_type": "execute_result"
    }
   ],
   "source": [
    "X_train_flattened[0].shape #flattened the matrix into a single column with 28*28 rows"
   ]
  },
  {
   "cell_type": "code",
   "execution_count": 10,
   "id": "6e3eda3c",
   "metadata": {},
   "outputs": [
    {
     "name": "stdout",
     "output_type": "stream",
     "text": [
      "Metal device set to: Apple M1\n"
     ]
    }
   ],
   "source": [
    "\"\"\"Since the numbers are between 0 to 9, the number of input layers in the neural network will be 784 and \n",
    "number of output layers will be 10\n",
    "Using sequential stack of layers, therefore using Keras Sequential\"\"\"\n",
    "\n",
    "model = keras.Sequential([\n",
    "    keras.layers.Dense(10, input_shape=(784,), activation= 'sigmoid') #Dense- each neuron is connected to every other neuron in other layer\n",
    "]\n",
    ")\n",
    "\n",
    "model.compile(\n",
    "    optimizer='adam',\n",
    "    loss = 'sparse_categorical_crossentropy',\n",
    "    metrics=['accuracy']\n",
    ")"
   ]
  },
  {
   "cell_type": "code",
   "execution_count": 11,
   "id": "d95c373f",
   "metadata": {},
   "outputs": [
    {
     "name": "stdout",
     "output_type": "stream",
     "text": [
      "Epoch 1/5\n"
     ]
    },
    {
     "name": "stderr",
     "output_type": "stream",
     "text": [
      "2023-04-22 15:31:30.857415: W tensorflow/tsl/platform/profile_utils/cpu_utils.cc:128] Failed to get CPU frequency: 0 Hz\n"
     ]
    },
    {
     "name": "stdout",
     "output_type": "stream",
     "text": [
      "1875/1875 [==============================] - 7s 4ms/step - loss: 10.1077 - accuracy: 0.8389\n",
      "Epoch 2/5\n",
      "1875/1875 [==============================] - 7s 4ms/step - loss: 6.0303 - accuracy: 0.8787\n",
      "Epoch 3/5\n",
      "1875/1875 [==============================] - 7s 4ms/step - loss: 5.8063 - accuracy: 0.8840\n",
      "Epoch 4/5\n",
      "1875/1875 [==============================] - 7s 4ms/step - loss: 5.4187 - accuracy: 0.8869\n",
      "Epoch 5/5\n",
      "1875/1875 [==============================] - 7s 4ms/step - loss: 5.4551 - accuracy: 0.8870\n"
     ]
    },
    {
     "data": {
      "text/plain": [
       "<keras.callbacks.History at 0x293b1ba90>"
      ]
     },
     "execution_count": 11,
     "metadata": {},
     "output_type": "execute_result"
    }
   ],
   "source": [
    "model.fit(X_train_flattened, y_train, epochs= 5)"
   ]
  },
  {
   "cell_type": "code",
   "execution_count": 12,
   "id": "bdf08920",
   "metadata": {},
   "outputs": [],
   "source": [
    "\"\"\"Trying to scale the data to get better accuracy\n",
    "Since the values in the individual matrixes range between 0(black)-255(white)\n",
    "So dividing the values by 255 will give us values between 0 to 1\"\"\"\n",
    "X_scaled_train = X_train/255\n",
    "\n",
    "X_scaled_test = X_test/255"
   ]
  },
  {
   "cell_type": "code",
   "execution_count": 13,
   "id": "b2081b10",
   "metadata": {},
   "outputs": [],
   "source": [
    "X_flat_scaled_train = X_scaled_train.reshape(len(X_scaled_train), 28*28)\n",
    "X_flat_scaled_test = X_scaled_test.reshape(len(X_scaled_test), 28*28)"
   ]
  },
  {
   "cell_type": "code",
   "execution_count": 14,
   "id": "739a094d",
   "metadata": {},
   "outputs": [
    {
     "name": "stdout",
     "output_type": "stream",
     "text": [
      "Epoch 1/6\n",
      "1875/1875 [==============================] - 7s 4ms/step - loss: 1.3003 - accuracy: 0.8266\n",
      "Epoch 2/6\n",
      "1875/1875 [==============================] - 7s 4ms/step - loss: 0.8946 - accuracy: 0.8721\n",
      "Epoch 3/6\n",
      "1875/1875 [==============================] - 7s 4ms/step - loss: 0.6162 - accuracy: 0.8853\n",
      "Epoch 4/6\n",
      "1875/1875 [==============================] - 7s 4ms/step - loss: 0.4509 - accuracy: 0.8970\n",
      "Epoch 5/6\n",
      "1875/1875 [==============================] - 7s 4ms/step - loss: 0.3599 - accuracy: 0.9065\n",
      "Epoch 6/6\n",
      "1875/1875 [==============================] - 7s 4ms/step - loss: 0.3113 - accuracy: 0.9142\n"
     ]
    },
    {
     "data": {
      "text/plain": [
       "<keras.callbacks.History at 0x299c41480>"
      ]
     },
     "execution_count": 14,
     "metadata": {},
     "output_type": "execute_result"
    }
   ],
   "source": [
    "model.fit(X_flat_scaled_train, y_train, epochs= 6)"
   ]
  },
  {
   "cell_type": "code",
   "execution_count": 15,
   "id": "b3792af1",
   "metadata": {},
   "outputs": [
    {
     "name": "stdout",
     "output_type": "stream",
     "text": [
      "313/313 [==============================] - 1s 3ms/step - loss: 0.2883 - accuracy: 0.9196\n"
     ]
    },
    {
     "data": {
      "text/plain": [
       "[0.28833991289138794, 0.9196000695228577]"
      ]
     },
     "execution_count": 15,
     "metadata": {},
     "output_type": "execute_result"
    }
   ],
   "source": [
    "#Evaluating the accuracy on test dataset\n",
    "model.evaluate(X_flat_scaled_test,y_test)"
   ]
  },
  {
   "cell_type": "code",
   "execution_count": 16,
   "id": "29b4f155",
   "metadata": {},
   "outputs": [
    {
     "name": "stdout",
     "output_type": "stream",
     "text": [
      "313/313 [==============================] - 0s 1ms/step\n"
     ]
    }
   ],
   "source": [
    "y_predicted = model.predict(X_flat_scaled_test)"
   ]
  },
  {
   "cell_type": "code",
   "execution_count": 17,
   "id": "204334cb",
   "metadata": {},
   "outputs": [],
   "source": [
    "y_predicted_labels= [np.argmax(i) for i in y_predicted]"
   ]
  },
  {
   "cell_type": "code",
   "execution_count": 18,
   "id": "80c1d997",
   "metadata": {},
   "outputs": [
    {
     "data": {
      "text/plain": [
       "Text(95.72222222222221, 0.5, 'Truth')"
      ]
     },
     "execution_count": 18,
     "metadata": {},
     "output_type": "execute_result"
    },
    {
     "data": {
      "image/png": "[encoded data removed]",
      "text/plain": [
       "<Figure size 1000x700 with 2 Axes>"
      ]
     },
     "metadata": {},
     "output_type": "display_data"
    }
   ],
   "source": [
    "#Confusion Matrix\n",
    "cm= tf.math.confusion_matrix(labels = y_test, predictions = y_predicted_labels)\n",
    "\n",
    "plt.figure(figsize=(10,7))\n",
    "sn.heatmap(cm, annot=True, fmt= 'd')\n",
    "plt.xlabel('Predicted')\n",
    "plt.ylabel('Truth')\n"
   ]
  },
  {
   "cell_type": "code",
   "execution_count": null,
   "id": "48558ea6",
   "metadata": {},
   "outputs": [],
   "source": []
  }
 ],
 "metadata": {
  "kernelspec": {
   "display_name": "Python 3.10 (tensorflow)",
   "language": "python",
   "name": "tensorflow"
  },
  "language_info": {
   "codemirror_mode": {
    "name": "ipython",
    "version": 3
   },
   "file_extension": ".py",
   "mimetype": "text/x-python",
   "name": "python",
   "nbconvert_exporter": "python",
   "pygments_lexer": "ipython3",
   "version": "3.10.10"
  }
 },
 "nbformat": 4,
 "nbformat_minor": 5
}
